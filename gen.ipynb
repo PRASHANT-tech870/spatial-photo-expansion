{
 "cells": [
  {
   "cell_type": "code",
   "execution_count": 7,
   "metadata": {},
   "outputs": [
    {
     "name": "stdout",
     "output_type": "stream",
     "text": [
      "/Users/prashantronad/Documents/Samsung/Spatial-photo-expansion/Latest_testing/Original_Images/ladyposingpinktree.png\n"
     ]
    },
    {
     "name": "stderr",
     "output_type": "stream",
     "text": [
      "/Users/prashantronad/Library/Python/3.9/lib/python/site-packages/urllib3/__init__.py:35: NotOpenSSLWarning: urllib3 v2 only supports OpenSSL 1.1.1+, currently the 'ssl' module is compiled with 'LibreSSL 2.8.3'. See: https://github.com/urllib3/urllib3/issues/3020\n",
      "  warnings.warn(\n"
     ]
    },
    {
     "name": "stdout",
     "output_type": "stream",
     "text": [
      "INFO:root:Generating depth image. This might take long...\n"
     ]
    },
    {
     "name": "stderr",
     "output_type": "stream",
     "text": [
      "Device set to use mps:0\n",
      "/Users/prashantronad/Library/Python/3.9/lib/python/site-packages/torch/nn/functional.py:4594: UserWarning: The operator 'aten::upsample_bicubic2d.out' is not currently supported on the MPS backend and will fall back to run on the CPU. This may have performance implications. (Triggered internally at /Users/runner/work/pytorch/pytorch/pytorch/aten/src/ATen/mps/MPSFallback.mm:13.)\n",
      "  return torch._C._nn.upsample_bicubic2d(\n"
     ]
    },
    {
     "name": "stdout",
     "output_type": "stream",
     "text": [
      "INFO:root:Generating new directory /Users/prashantronad/Documents/Samsung/Spatial-photo-expansion/Latest_testing/Original_Images/8Z8O54DD7U\n",
      "INFO:root:Saved new file /Users/prashantronad/Documents/Samsung/Spatial-photo-expansion/Latest_testing/Original_Images/8Z8O54DD7U/depth_image.jpg\n",
      "INFO:root:Shifted /Users/prashantronad/Documents/Samsung/Spatial-photo-expansion/Latest_testing/Original_Images/8Z8O54DD7U/stereo_left.png\n",
      "INFO:root:Inpainted /Users/prashantronad/Documents/Samsung/Spatial-photo-expansion/Latest_testing/Original_Images/8Z8O54DD7U/stereo_left.png\n",
      "INFO:root:Shifted /Users/prashantronad/Documents/Samsung/Spatial-photo-expansion/Latest_testing/Original_Images/8Z8O54DD7U/stereo_right.png\n",
      "INFO:root:Inpainted /Users/prashantronad/Documents/Samsung/Spatial-photo-expansion/Latest_testing/Original_Images/8Z8O54DD7U/stereo_right.png\n",
      "INFO:root:Running OS process\n"
     ]
    },
    {
     "name": "stderr",
     "output_type": "stream",
     "text": [
      "ffmpeg version 7.1 Copyright (c) 2000-2024 the FFmpeg developers\n",
      "  built with Apple clang version 16.0.0 (clang-1600.0.26.4)\n",
      "  configuration: --prefix=/opt/homebrew/Cellar/ffmpeg/7.1_4 --enable-shared --enable-pthreads --enable-version3 --cc=clang --host-cflags= --host-ldflags='-Wl,-ld_classic' --enable-ffplay --enable-gnutls --enable-gpl --enable-libaom --enable-libaribb24 --enable-libbluray --enable-libdav1d --enable-libharfbuzz --enable-libjxl --enable-libmp3lame --enable-libopus --enable-librav1e --enable-librist --enable-librubberband --enable-libsnappy --enable-libsrt --enable-libssh --enable-libsvtav1 --enable-libtesseract --enable-libtheora --enable-libvidstab --enable-libvmaf --enable-libvorbis --enable-libvpx --enable-libwebp --enable-libx264 --enable-libx265 --enable-libxml2 --enable-libxvid --enable-lzma --enable-libfontconfig --enable-libfreetype --enable-frei0r --enable-libass --enable-libopencore-amrnb --enable-libopencore-amrwb --enable-libopenjpeg --enable-libspeex --enable-libsoxr --enable-libzmq --enable-libzimg --disable-libjack --disable-indev=jack --enable-videotoolbox --enable-audiotoolbox --enable-neon\n",
      "  libavutil      59. 39.100 / 59. 39.100\n",
      "  libavcodec     61. 19.100 / 61. 19.100\n",
      "  libavformat    61.  7.100 / 61.  7.100\n",
      "  libavdevice    61.  3.100 / 61.  3.100\n",
      "  libavfilter    10.  4.100 / 10.  4.100\n",
      "  libswscale      8.  3.100 /  8.  3.100\n",
      "  libswresample   5.  3.100 /  5.  3.100\n",
      "  libpostproc    58.  3.100 / 58.  3.100\n",
      "Input #0, png_pipe, from '/Users/prashantronad/Documents/Samsung/Spatial-photo-expansion/Latest_testing/Original_Images/8Z8O54DD7U/stereo_left.png':\n",
      "  Duration: N/A, bitrate: N/A\n",
      "  Stream #0:0: Video: png, rgb24(pc, gbr/unknown/unknown), 4000x6000, 25 fps, 25 tbr, 25 tbn\n",
      "Input #1, png_pipe, from '/Users/prashantronad/Documents/Samsung/Spatial-photo-expansion/Latest_testing/Original_Images/8Z8O54DD7U/stereo_right.png':\n",
      "  Duration: N/A, bitrate: N/A\n",
      "  Stream #1:0: Video: png, rgb24(pc, gbr/unknown/unknown), 4000x6000, 25 fps, 25 tbr, 25 tbn\n",
      "Stream mapping:\n",
      "  Stream #0:0 (png) -> hstack\n",
      "  Stream #1:0 (png) -> hstack\n",
      "  hstack:default -> Stream #0:0 (libx265)\n",
      "Press [q] to stop, [?] for help\n",
      "[libx265 @ 0x15b805580] Unknown option: vframes.\n",
      "[libx265 @ 0x15b805580] Unknown option: hevc_mv.\n",
      "x265 [info]: HEVC encoder version 4.1+1-1d117be\n",
      "x265 [info]: build info [Mac OS X][clang 16.0.0][64 bit] 8bit+10bit+12bit\n",
      "x265 [info]: using cpu capabilities: NEON Neon_DotProd Neon_I8MM\n",
      "x265 [warning]: halving the quality when psy-rd is enabled for 444 input. Setting cbQpOffset = 6 and crQpOffset = 6\n",
      "x265 [info]: Main 4:4:4 profile, Level-8.5 (Main tier)\n",
      "x265 [info]: Thread pool created using 12 threads\n",
      "x265 [info]: Slices                              : 1\n",
      "x265 [info]: frame threads / pool features       : 3 / wpp(94 rows)\n",
      "x265 [info]: Coding QT: max CU size, min CU size : 64 / 8\n",
      "x265 [info]: Residual QT: max TU size, max depth : 32 / 1 inter / 1 intra\n",
      "x265 [info]: ME / range / subpel / merge         : hex / 57 / 2 / 3\n",
      "x265 [info]: Keyframe min / max / scenecut / bias  : 25 / 250 / 40 / 5.00 \n",
      "x265 [info]: Cb/Cr QP Offset                     : 6 / 6\n",
      "x265 [info]: Lookahead / bframes / badapt        : 20 / 4 / 2\n",
      "x265 [info]: b-pyramid / weightp / weightb       : 1 / 1 / 0\n",
      "x265 [info]: References / ref-limit  cu / depth  : 3 / off / on\n",
      "x265 [info]: AQ: mode / str / qg-size / cu-tree  : 2 / 1.0 / 32 / 1\n",
      "x265 [info]: Rate Control / qCompress            : CRF-28.0 / 0.60\n",
      "x265 [info]: tools: rd=3 psy-rd=2.00 early-skip rskip mode=1 signhide tmvp\n",
      "x265 [info]: tools: b-intra strong-intra-smoothing lslices=8 deblock sao\n",
      "Output #0, hevc, to '/Users/prashantronad/Documents/Samsung/Spatial-photo-expansion/Latest_testing/Original_Images/8Z8O54DD7U/ladyposingpinktree_sbs.hevc':\n",
      "  Metadata:\n",
      "    encoder         : Lavf61.7.100\n",
      "  Stream #0:0: Video: hevc, gbrp(pc, gbr/unknown/unknown, progressive), 8000x6000, q=2-31, 25 fps, 25 tbn\n",
      "      Metadata:\n",
      "        encoder         : Lavc61.19.100 libx265\n",
      "      Side data:\n",
      "        cpb: bitrate max/min/avg: 0/0/0 buffer size: 0 vbv_delay: N/A\n",
      "[out#0/hevc @ 0x15b8044a0] video:2394KiB audio:0KiB subtitle:0KiB other streams:0KiB global headers:0KiB muxing overhead: 0.000000%\n",
      "frame=    1 fps=0.4 q=33.2 Lsize=    2394KiB time=00:00:00.04 bitrate=490391.2kbits/s speed=0.0163x    \n",
      "x265 [info]: frame I:      1, Avg QP:33.20  kb/s: 489924.80\n",
      "\n",
      "encoded 1 frames in 2.14s (0.47 fps), 489924.80 kb/s, Avg QP:33.20\n"
     ]
    },
    {
     "name": "stdout",
     "output_type": "stream",
     "text": [
      "/Users/prashantronad/Documents/Samsung/Spatial-photo-expansion/Latest_testing/Original_Images/carposing.png\n"
     ]
    },
    {
     "name": "stderr",
     "output_type": "stream",
     "text": [
      "/Users/prashantronad/Library/Python/3.9/lib/python/site-packages/urllib3/__init__.py:35: NotOpenSSLWarning: urllib3 v2 only supports OpenSSL 1.1.1+, currently the 'ssl' module is compiled with 'LibreSSL 2.8.3'. See: https://github.com/urllib3/urllib3/issues/3020\n",
      "  warnings.warn(\n"
     ]
    },
    {
     "name": "stdout",
     "output_type": "stream",
     "text": [
      "INFO:root:Generating depth image. This might take long...\n"
     ]
    },
    {
     "name": "stderr",
     "output_type": "stream",
     "text": [
      "Device set to use mps:0\n",
      "/Users/prashantronad/Library/Python/3.9/lib/python/site-packages/torch/nn/functional.py:4594: UserWarning: The operator 'aten::upsample_bicubic2d.out' is not currently supported on the MPS backend and will fall back to run on the CPU. This may have performance implications. (Triggered internally at /Users/runner/work/pytorch/pytorch/pytorch/aten/src/ATen/mps/MPSFallback.mm:13.)\n",
      "  return torch._C._nn.upsample_bicubic2d(\n"
     ]
    },
    {
     "name": "stdout",
     "output_type": "stream",
     "text": [
      "INFO:root:Generating new directory /Users/prashantronad/Documents/Samsung/Spatial-photo-expansion/Latest_testing/Original_Images/Q4P90MTHV8\n",
      "INFO:root:Saved new file /Users/prashantronad/Documents/Samsung/Spatial-photo-expansion/Latest_testing/Original_Images/Q4P90MTHV8/depth_image.jpg\n",
      "INFO:root:Shifted /Users/prashantronad/Documents/Samsung/Spatial-photo-expansion/Latest_testing/Original_Images/Q4P90MTHV8/stereo_left.png\n",
      "INFO:root:Inpainted /Users/prashantronad/Documents/Samsung/Spatial-photo-expansion/Latest_testing/Original_Images/Q4P90MTHV8/stereo_left.png\n",
      "INFO:root:Shifted /Users/prashantronad/Documents/Samsung/Spatial-photo-expansion/Latest_testing/Original_Images/Q4P90MTHV8/stereo_right.png\n",
      "INFO:root:Inpainted /Users/prashantronad/Documents/Samsung/Spatial-photo-expansion/Latest_testing/Original_Images/Q4P90MTHV8/stereo_right.png\n",
      "INFO:root:Running OS process\n"
     ]
    },
    {
     "name": "stderr",
     "output_type": "stream",
     "text": [
      "ffmpeg version 7.1 Copyright (c) 2000-2024 the FFmpeg developers\n",
      "  built with Apple clang version 16.0.0 (clang-1600.0.26.4)\n",
      "  configuration: --prefix=/opt/homebrew/Cellar/ffmpeg/7.1_4 --enable-shared --enable-pthreads --enable-version3 --cc=clang --host-cflags= --host-ldflags='-Wl,-ld_classic' --enable-ffplay --enable-gnutls --enable-gpl --enable-libaom --enable-libaribb24 --enable-libbluray --enable-libdav1d --enable-libharfbuzz --enable-libjxl --enable-libmp3lame --enable-libopus --enable-librav1e --enable-librist --enable-librubberband --enable-libsnappy --enable-libsrt --enable-libssh --enable-libsvtav1 --enable-libtesseract --enable-libtheora --enable-libvidstab --enable-libvmaf --enable-libvorbis --enable-libvpx --enable-libwebp --enable-libx264 --enable-libx265 --enable-libxml2 --enable-libxvid --enable-lzma --enable-libfontconfig --enable-libfreetype --enable-frei0r --enable-libass --enable-libopencore-amrnb --enable-libopencore-amrwb --enable-libopenjpeg --enable-libspeex --enable-libsoxr --enable-libzmq --enable-libzimg --disable-libjack --disable-indev=jack --enable-videotoolbox --enable-audiotoolbox --enable-neon\n",
      "  libavutil      59. 39.100 / 59. 39.100\n",
      "  libavcodec     61. 19.100 / 61. 19.100\n",
      "  libavformat    61.  7.100 / 61.  7.100\n",
      "  libavdevice    61.  3.100 / 61.  3.100\n",
      "  libavfilter    10.  4.100 / 10.  4.100\n",
      "  libswscale      8.  3.100 /  8.  3.100\n",
      "  libswresample   5.  3.100 /  5.  3.100\n",
      "  libpostproc    58.  3.100 / 58.  3.100\n",
      "Input #0, png_pipe, from '/Users/prashantronad/Documents/Samsung/Spatial-photo-expansion/Latest_testing/Original_Images/Q4P90MTHV8/stereo_left.png':\n",
      "  Duration: N/A, bitrate: N/A\n",
      "  Stream #0:0: Video: png, rgb24(pc, gbr/unknown/unknown), 4608x2592, 25 fps, 25 tbr, 25 tbn\n",
      "Input #1, png_pipe, from '/Users/prashantronad/Documents/Samsung/Spatial-photo-expansion/Latest_testing/Original_Images/Q4P90MTHV8/stereo_right.png':\n",
      "  Duration: N/A, bitrate: N/A\n",
      "  Stream #1:0: Video: png, rgb24(pc, gbr/unknown/unknown), 4608x2592, 25 fps, 25 tbr, 25 tbn\n",
      "Stream mapping:\n",
      "  Stream #0:0 (png) -> hstack\n",
      "  Stream #1:0 (png) -> hstack\n",
      "  hstack:default -> Stream #0:0 (libx265)\n",
      "Press [q] to stop, [?] for help\n",
      "[libx265 @ 0x14a7176b0] Unknown option: vframes.\n",
      "[libx265 @ 0x14a7176b0] Unknown option: hevc_mv.\n",
      "x265 [info]: HEVC encoder version 4.1+1-1d117be\n",
      "x265 [info]: build info [Mac OS X][clang 16.0.0][64 bit] 8bit+10bit+12bit\n",
      "x265 [info]: using cpu capabilities: NEON Neon_DotProd Neon_I8MM\n",
      "x265 [warning]: halving the quality when psy-rd is enabled for 444 input. Setting cbQpOffset = 6 and crQpOffset = 6\n",
      "x265 [info]: Main 4:4:4 profile, Level-6 (Main tier)\n",
      "x265 [info]: Thread pool created using 12 threads\n",
      "x265 [info]: Slices                              : 1\n",
      "x265 [info]: frame threads / pool features       : 3 / wpp(41 rows)\n",
      "x265 [info]: Coding QT: max CU size, min CU size : 64 / 8\n",
      "x265 [info]: Residual QT: max TU size, max depth : 32 / 1 inter / 1 intra\n",
      "x265 [info]: ME / range / subpel / merge         : hex / 57 / 2 / 3\n",
      "x265 [info]: Keyframe min / max / scenecut / bias  : 25 / 250 / 40 / 5.00 \n",
      "x265 [info]: Cb/Cr QP Offset                     : 6 / 6\n",
      "x265 [info]: Lookahead / bframes / badapt        : 20 / 4 / 2\n",
      "x265 [info]: b-pyramid / weightp / weightb       : 1 / 1 / 0\n",
      "x265 [info]: References / ref-limit  cu / depth  : 3 / off / on\n",
      "x265 [info]: AQ: mode / str / qg-size / cu-tree  : 2 / 1.0 / 32 / 1\n",
      "x265 [info]: Rate Control / qCompress            : CRF-28.0 / 0.60\n",
      "x265 [info]: tools: rd=3 psy-rd=2.00 early-skip rskip mode=1 signhide tmvp\n",
      "x265 [info]: tools: b-intra strong-intra-smoothing lslices=8 deblock sao\n",
      "Output #0, hevc, to '/Users/prashantronad/Documents/Samsung/Spatial-photo-expansion/Latest_testing/Original_Images/Q4P90MTHV8/carposing_sbs.hevc':\n",
      "  Metadata:\n",
      "    encoder         : Lavf61.7.100\n",
      "  Stream #0:0: Video: hevc, gbrp(pc, gbr/unknown/unknown, progressive), 9216x2592, q=2-31, 25 fps, 25 tbn\n",
      "      Metadata:\n",
      "        encoder         : Lavc61.19.100 libx265\n",
      "      Side data:\n",
      "        cpb: bitrate max/min/avg: 0/0/0 buffer size: 0 vbv_delay: N/A\n",
      "[out#0/hevc @ 0x14a716290] video:791KiB audio:0KiB subtitle:0KiB other streams:0KiB global headers:0KiB muxing overhead: 0.000000%\n",
      "frame=    1 fps=0.9 q=32.4 Lsize=     791KiB time=00:00:00.04 bitrate=161899.4kbits/s speed=0.034x    \n",
      "x265 [info]: frame I:      1, Avg QP:32.38  kb/s: 161433.00\n",
      "\n",
      "encoded 1 frames in 1.02s (0.98 fps), 161433.01 kb/s, Avg QP:32.38\n"
     ]
    },
    {
     "name": "stdout",
     "output_type": "stream",
     "text": [
      "/Users/prashantronad/Documents/Samsung/Spatial-photo-expansion/Latest_testing/Original_Images/guytakingphoto.png\n"
     ]
    },
    {
     "name": "stderr",
     "output_type": "stream",
     "text": [
      "/Users/prashantronad/Library/Python/3.9/lib/python/site-packages/urllib3/__init__.py:35: NotOpenSSLWarning: urllib3 v2 only supports OpenSSL 1.1.1+, currently the 'ssl' module is compiled with 'LibreSSL 2.8.3'. See: https://github.com/urllib3/urllib3/issues/3020\n",
      "  warnings.warn(\n"
     ]
    },
    {
     "name": "stdout",
     "output_type": "stream",
     "text": [
      "INFO:root:Generating depth image. This might take long...\n"
     ]
    },
    {
     "name": "stderr",
     "output_type": "stream",
     "text": [
      "Device set to use mps:0\n",
      "/Users/prashantronad/Library/Python/3.9/lib/python/site-packages/torch/nn/functional.py:4594: UserWarning: The operator 'aten::upsample_bicubic2d.out' is not currently supported on the MPS backend and will fall back to run on the CPU. This may have performance implications. (Triggered internally at /Users/runner/work/pytorch/pytorch/pytorch/aten/src/ATen/mps/MPSFallback.mm:13.)\n",
      "  return torch._C._nn.upsample_bicubic2d(\n"
     ]
    },
    {
     "name": "stdout",
     "output_type": "stream",
     "text": [
      "INFO:root:Generating new directory /Users/prashantronad/Documents/Samsung/Spatial-photo-expansion/Latest_testing/Original_Images/Q6ZV1BWLM0\n",
      "INFO:root:Saved new file /Users/prashantronad/Documents/Samsung/Spatial-photo-expansion/Latest_testing/Original_Images/Q6ZV1BWLM0/depth_image.jpg\n",
      "INFO:root:Shifted /Users/prashantronad/Documents/Samsung/Spatial-photo-expansion/Latest_testing/Original_Images/Q6ZV1BWLM0/stereo_left.png\n",
      "INFO:root:Inpainted /Users/prashantronad/Documents/Samsung/Spatial-photo-expansion/Latest_testing/Original_Images/Q6ZV1BWLM0/stereo_left.png\n",
      "INFO:root:Shifted /Users/prashantronad/Documents/Samsung/Spatial-photo-expansion/Latest_testing/Original_Images/Q6ZV1BWLM0/stereo_right.png\n",
      "INFO:root:Inpainted /Users/prashantronad/Documents/Samsung/Spatial-photo-expansion/Latest_testing/Original_Images/Q6ZV1BWLM0/stereo_right.png\n",
      "INFO:root:Running OS process\n"
     ]
    },
    {
     "name": "stderr",
     "output_type": "stream",
     "text": [
      "ffmpeg version 7.1 Copyright (c) 2000-2024 the FFmpeg developers\n",
      "  built with Apple clang version 16.0.0 (clang-1600.0.26.4)\n",
      "  configuration: --prefix=/opt/homebrew/Cellar/ffmpeg/7.1_4 --enable-shared --enable-pthreads --enable-version3 --cc=clang --host-cflags= --host-ldflags='-Wl,-ld_classic' --enable-ffplay --enable-gnutls --enable-gpl --enable-libaom --enable-libaribb24 --enable-libbluray --enable-libdav1d --enable-libharfbuzz --enable-libjxl --enable-libmp3lame --enable-libopus --enable-librav1e --enable-librist --enable-librubberband --enable-libsnappy --enable-libsrt --enable-libssh --enable-libsvtav1 --enable-libtesseract --enable-libtheora --enable-libvidstab --enable-libvmaf --enable-libvorbis --enable-libvpx --enable-libwebp --enable-libx264 --enable-libx265 --enable-libxml2 --enable-libxvid --enable-lzma --enable-libfontconfig --enable-libfreetype --enable-frei0r --enable-libass --enable-libopencore-amrnb --enable-libopencore-amrwb --enable-libopenjpeg --enable-libspeex --enable-libsoxr --enable-libzmq --enable-libzimg --disable-libjack --disable-indev=jack --enable-videotoolbox --enable-audiotoolbox --enable-neon\n",
      "  libavutil      59. 39.100 / 59. 39.100\n",
      "  libavcodec     61. 19.100 / 61. 19.100\n",
      "  libavformat    61.  7.100 / 61.  7.100\n",
      "  libavdevice    61.  3.100 / 61.  3.100\n",
      "  libavfilter    10.  4.100 / 10.  4.100\n",
      "  libswscale      8.  3.100 /  8.  3.100\n",
      "  libswresample   5.  3.100 /  5.  3.100\n",
      "  libpostproc    58.  3.100 / 58.  3.100\n",
      "Input #0, png_pipe, from '/Users/prashantronad/Documents/Samsung/Spatial-photo-expansion/Latest_testing/Original_Images/Q6ZV1BWLM0/stereo_left.png':\n",
      "  Duration: N/A, bitrate: N/A\n",
      "  Stream #0:0: Video: png, rgb24(pc, gbr/unknown/unknown), 6000x4000, 25 fps, 25 tbr, 25 tbn\n",
      "Input #1, png_pipe, from '/Users/prashantronad/Documents/Samsung/Spatial-photo-expansion/Latest_testing/Original_Images/Q6ZV1BWLM0/stereo_right.png':\n",
      "  Duration: N/A, bitrate: N/A\n",
      "  Stream #1:0: Video: png, rgb24(pc, gbr/unknown/unknown), 6000x4000, 25 fps, 25 tbr, 25 tbn\n",
      "Stream mapping:\n",
      "  Stream #0:0 (png) -> hstack\n",
      "  Stream #1:0 (png) -> hstack\n",
      "  hstack:default -> Stream #0:0 (libx265)\n",
      "Press [q] to stop, [?] for help\n",
      "[libx265 @ 0x134805530] Unknown option: vframes.\n",
      "[libx265 @ 0x134805530] Unknown option: hevc_mv.\n",
      "x265 [info]: HEVC encoder version 4.1+1-1d117be\n",
      "x265 [info]: build info [Mac OS X][clang 16.0.0][64 bit] 8bit+10bit+12bit\n",
      "x265 [info]: using cpu capabilities: NEON Neon_DotProd Neon_I8MM\n",
      "x265 [warning]: halving the quality when psy-rd is enabled for 444 input. Setting cbQpOffset = 6 and crQpOffset = 6\n",
      "x265 [info]: Main 4:4:4 profile, Level-8.5 (Main tier)\n",
      "x265 [info]: Thread pool created using 12 threads\n",
      "x265 [info]: Slices                              : 1\n",
      "x265 [info]: frame threads / pool features       : 3 / wpp(63 rows)\n",
      "x265 [info]: Coding QT: max CU size, min CU size : 64 / 8\n",
      "x265 [info]: Residual QT: max TU size, max depth : 32 / 1 inter / 1 intra\n",
      "x265 [info]: ME / range / subpel / merge         : hex / 57 / 2 / 3\n",
      "x265 [info]: Keyframe min / max / scenecut / bias  : 25 / 250 / 40 / 5.00 \n",
      "x265 [info]: Cb/Cr QP Offset                     : 6 / 6\n",
      "x265 [info]: Lookahead / bframes / badapt        : 20 / 4 / 2\n",
      "x265 [info]: b-pyramid / weightp / weightb       : 1 / 1 / 0\n",
      "x265 [info]: References / ref-limit  cu / depth  : 3 / off / on\n",
      "x265 [info]: AQ: mode / str / qg-size / cu-tree  : 2 / 1.0 / 32 / 1\n",
      "x265 [info]: Rate Control / qCompress            : CRF-28.0 / 0.60\n",
      "x265 [info]: tools: rd=3 psy-rd=2.00 early-skip rskip mode=1 signhide tmvp\n",
      "x265 [info]: tools: b-intra strong-intra-smoothing lslices=8 deblock sao\n",
      "Output #0, hevc, to '/Users/prashantronad/Documents/Samsung/Spatial-photo-expansion/Latest_testing/Original_Images/Q6ZV1BWLM0/guytakingphoto_sbs.hevc':\n",
      "  Metadata:\n",
      "    encoder         : Lavf61.7.100\n",
      "  Stream #0:0: Video: hevc, gbrp(pc, gbr/unknown/unknown, progressive), 12000x4000, q=2-31, 25 fps, 25 tbn\n",
      "      Metadata:\n",
      "        encoder         : Lavc61.19.100 libx265\n",
      "      Side data:\n",
      "        cpb: bitrate max/min/avg: 0/0/0 buffer size: 0 vbv_delay: N/A\n",
      "[out#0/hevc @ 0x1348047d0] video:455KiB audio:0KiB subtitle:0KiB other streams:0KiB global headers:0KiB muxing overhead: 0.000000%\n",
      "frame=    1 fps=0.5 q=30.8 Lsize=     455KiB time=00:00:00.04 bitrate=93159.4kbits/s speed=0.021x    \n",
      "x265 [info]: frame I:      1, Avg QP:30.76  kb/s: 92692.80\n",
      "\n",
      "encoded 1 frames in 1.65s (0.61 fps), 92692.80 kb/s, Avg QP:30.76\n"
     ]
    },
    {
     "name": "stdout",
     "output_type": "stream",
     "text": [
      "/Users/prashantronad/Documents/Samsung/Spatial-photo-expansion/Latest_testing/Original_Images/toyotaonhills.png\n"
     ]
    },
    {
     "name": "stderr",
     "output_type": "stream",
     "text": [
      "/Users/prashantronad/Library/Python/3.9/lib/python/site-packages/urllib3/__init__.py:35: NotOpenSSLWarning: urllib3 v2 only supports OpenSSL 1.1.1+, currently the 'ssl' module is compiled with 'LibreSSL 2.8.3'. See: https://github.com/urllib3/urllib3/issues/3020\n",
      "  warnings.warn(\n"
     ]
    },
    {
     "name": "stdout",
     "output_type": "stream",
     "text": [
      "INFO:root:Generating depth image. This might take long...\n"
     ]
    },
    {
     "name": "stderr",
     "output_type": "stream",
     "text": [
      "Device set to use mps:0\n",
      "/Users/prashantronad/Library/Python/3.9/lib/python/site-packages/torch/nn/functional.py:4594: UserWarning: The operator 'aten::upsample_bicubic2d.out' is not currently supported on the MPS backend and will fall back to run on the CPU. This may have performance implications. (Triggered internally at /Users/runner/work/pytorch/pytorch/pytorch/aten/src/ATen/mps/MPSFallback.mm:13.)\n",
      "  return torch._C._nn.upsample_bicubic2d(\n"
     ]
    },
    {
     "name": "stdout",
     "output_type": "stream",
     "text": [
      "INFO:root:Generating new directory /Users/prashantronad/Documents/Samsung/Spatial-photo-expansion/Latest_testing/Original_Images/BWPFFBYT97\n",
      "INFO:root:Saved new file /Users/prashantronad/Documents/Samsung/Spatial-photo-expansion/Latest_testing/Original_Images/BWPFFBYT97/depth_image.jpg\n",
      "INFO:root:Shifted /Users/prashantronad/Documents/Samsung/Spatial-photo-expansion/Latest_testing/Original_Images/BWPFFBYT97/stereo_left.png\n",
      "INFO:root:Inpainted /Users/prashantronad/Documents/Samsung/Spatial-photo-expansion/Latest_testing/Original_Images/BWPFFBYT97/stereo_left.png\n",
      "INFO:root:Shifted /Users/prashantronad/Documents/Samsung/Spatial-photo-expansion/Latest_testing/Original_Images/BWPFFBYT97/stereo_right.png\n",
      "INFO:root:Inpainted /Users/prashantronad/Documents/Samsung/Spatial-photo-expansion/Latest_testing/Original_Images/BWPFFBYT97/stereo_right.png\n",
      "INFO:root:Running OS process\n"
     ]
    },
    {
     "name": "stderr",
     "output_type": "stream",
     "text": [
      "ffmpeg version 7.1 Copyright (c) 2000-2024 the FFmpeg developers\n",
      "  built with Apple clang version 16.0.0 (clang-1600.0.26.4)\n",
      "  configuration: --prefix=/opt/homebrew/Cellar/ffmpeg/7.1_4 --enable-shared --enable-pthreads --enable-version3 --cc=clang --host-cflags= --host-ldflags='-Wl,-ld_classic' --enable-ffplay --enable-gnutls --enable-gpl --enable-libaom --enable-libaribb24 --enable-libbluray --enable-libdav1d --enable-libharfbuzz --enable-libjxl --enable-libmp3lame --enable-libopus --enable-librav1e --enable-librist --enable-librubberband --enable-libsnappy --enable-libsrt --enable-libssh --enable-libsvtav1 --enable-libtesseract --enable-libtheora --enable-libvidstab --enable-libvmaf --enable-libvorbis --enable-libvpx --enable-libwebp --enable-libx264 --enable-libx265 --enable-libxml2 --enable-libxvid --enable-lzma --enable-libfontconfig --enable-libfreetype --enable-frei0r --enable-libass --enable-libopencore-amrnb --enable-libopencore-amrwb --enable-libopenjpeg --enable-libspeex --enable-libsoxr --enable-libzmq --enable-libzimg --disable-libjack --disable-indev=jack --enable-videotoolbox --enable-audiotoolbox --enable-neon\n",
      "  libavutil      59. 39.100 / 59. 39.100\n",
      "  libavcodec     61. 19.100 / 61. 19.100\n",
      "  libavformat    61.  7.100 / 61.  7.100\n",
      "  libavdevice    61.  3.100 / 61.  3.100\n",
      "  libavfilter    10.  4.100 / 10.  4.100\n",
      "  libswscale      8.  3.100 /  8.  3.100\n",
      "  libswresample   5.  3.100 /  5.  3.100\n",
      "  libpostproc    58.  3.100 / 58.  3.100\n",
      "Input #0, png_pipe, from '/Users/prashantronad/Documents/Samsung/Spatial-photo-expansion/Latest_testing/Original_Images/BWPFFBYT97/stereo_left.png':\n",
      "  Duration: N/A, bitrate: N/A\n",
      "  Stream #0:0: Video: png, rgb24(pc, gbr/unknown/unknown), 2889x3852, 25 fps, 25 tbr, 25 tbn\n",
      "Input #1, png_pipe, from '/Users/prashantronad/Documents/Samsung/Spatial-photo-expansion/Latest_testing/Original_Images/BWPFFBYT97/stereo_right.png':\n",
      "  Duration: N/A, bitrate: N/A\n",
      "  Stream #1:0: Video: png, rgb24(pc, gbr/unknown/unknown), 2889x3852, 25 fps, 25 tbr, 25 tbn\n",
      "Stream mapping:\n",
      "  Stream #0:0 (png) -> hstack\n",
      "  Stream #1:0 (png) -> hstack\n",
      "  hstack:default -> Stream #0:0 (libx265)\n",
      "Press [q] to stop, [?] for help\n",
      "[libx265 @ 0x141806bb0] Unknown option: vframes.\n",
      "[libx265 @ 0x141806bb0] Unknown option: hevc_mv.\n",
      "x265 [info]: HEVC encoder version 4.1+1-1d117be\n",
      "x265 [info]: build info [Mac OS X][clang 16.0.0][64 bit] 8bit+10bit+12bit\n",
      "x265 [info]: using cpu capabilities: NEON Neon_DotProd Neon_I8MM\n",
      "x265 [warning]: halving the quality when psy-rd is enabled for 444 input. Setting cbQpOffset = 6 and crQpOffset = 6\n",
      "x265 [info]: Main 4:4:4 profile, Level-6 (Main tier)\n",
      "x265 [info]: Thread pool created using 12 threads\n",
      "x265 [info]: Slices                              : 1\n",
      "x265 [info]: frame threads / pool features       : 3 / wpp(61 rows)\n",
      "x265 [info]: Coding QT: max CU size, min CU size : 64 / 8\n",
      "x265 [info]: Residual QT: max TU size, max depth : 32 / 1 inter / 1 intra\n",
      "x265 [info]: ME / range / subpel / merge         : hex / 57 / 2 / 3\n",
      "x265 [info]: Keyframe min / max / scenecut / bias  : 25 / 250 / 40 / 5.00 \n",
      "x265 [info]: Cb/Cr QP Offset                     : 6 / 6\n",
      "x265 [info]: Lookahead / bframes / badapt        : 20 / 4 / 2\n",
      "x265 [info]: b-pyramid / weightp / weightb       : 1 / 1 / 0\n",
      "x265 [info]: References / ref-limit  cu / depth  : 3 / off / on\n",
      "x265 [info]: AQ: mode / str / qg-size / cu-tree  : 2 / 1.0 / 32 / 1\n",
      "x265 [info]: Rate Control / qCompress            : CRF-28.0 / 0.60\n",
      "x265 [info]: tools: rd=3 psy-rd=2.00 early-skip rskip mode=1 signhide tmvp\n",
      "x265 [info]: tools: b-intra strong-intra-smoothing lslices=8 deblock sao\n",
      "Output #0, hevc, to '/Users/prashantronad/Documents/Samsung/Spatial-photo-expansion/Latest_testing/Original_Images/BWPFFBYT97/toyotaonhills_sbs.hevc':\n",
      "  Metadata:\n",
      "    encoder         : Lavf61.7.100\n",
      "  Stream #0:0: Video: hevc, gbrp(pc, gbr/unknown/unknown, progressive), 5778x3852, q=2-31, 25 fps, 25 tbn\n",
      "      Metadata:\n",
      "        encoder         : Lavc61.19.100 libx265\n",
      "      Side data:\n",
      "        cpb: bitrate max/min/avg: 0/0/0 buffer size: 0 vbv_delay: N/A\n",
      "[out#0/hevc @ 0x1418052f0] video:2395KiB audio:0KiB subtitle:0KiB other streams:0KiB global headers:0KiB muxing overhead: 0.000000%\n",
      "frame=    1 fps=0.7 q=33.3 Lsize=    2395KiB time=00:00:00.04 bitrate=490403.4kbits/s speed=0.0287x    \n",
      "x265 [info]: frame I:      1, Avg QP:33.35  kb/s: 489937.00\n",
      "\n",
      "encoded 1 frames in 1.26s (0.80 fps), 489937.01 kb/s, Avg QP:33.35\n"
     ]
    },
    {
     "name": "stdout",
     "output_type": "stream",
     "text": [
      "/Users/prashantronad/Documents/Samsung/Spatial-photo-expansion/Latest_testing/Original_Images/bowlingpins.png\n"
     ]
    },
    {
     "name": "stderr",
     "output_type": "stream",
     "text": [
      "/Users/prashantronad/Library/Python/3.9/lib/python/site-packages/urllib3/__init__.py:35: NotOpenSSLWarning: urllib3 v2 only supports OpenSSL 1.1.1+, currently the 'ssl' module is compiled with 'LibreSSL 2.8.3'. See: https://github.com/urllib3/urllib3/issues/3020\n",
      "  warnings.warn(\n"
     ]
    },
    {
     "name": "stdout",
     "output_type": "stream",
     "text": [
      "INFO:root:Generating depth image. This might take long...\n"
     ]
    },
    {
     "name": "stderr",
     "output_type": "stream",
     "text": [
      "Device set to use mps:0\n",
      "/Users/prashantronad/Library/Python/3.9/lib/python/site-packages/torch/nn/functional.py:4594: UserWarning: The operator 'aten::upsample_bicubic2d.out' is not currently supported on the MPS backend and will fall back to run on the CPU. This may have performance implications. (Triggered internally at /Users/runner/work/pytorch/pytorch/pytorch/aten/src/ATen/mps/MPSFallback.mm:13.)\n",
      "  return torch._C._nn.upsample_bicubic2d(\n"
     ]
    },
    {
     "name": "stdout",
     "output_type": "stream",
     "text": [
      "INFO:root:Generating new directory /Users/prashantronad/Documents/Samsung/Spatial-photo-expansion/Latest_testing/Original_Images/VMY0TXRO9J\n",
      "INFO:root:Saved new file /Users/prashantronad/Documents/Samsung/Spatial-photo-expansion/Latest_testing/Original_Images/VMY0TXRO9J/depth_image.jpg\n",
      "INFO:root:Shifted /Users/prashantronad/Documents/Samsung/Spatial-photo-expansion/Latest_testing/Original_Images/VMY0TXRO9J/stereo_left.png\n",
      "INFO:root:Inpainted /Users/prashantronad/Documents/Samsung/Spatial-photo-expansion/Latest_testing/Original_Images/VMY0TXRO9J/stereo_left.png\n",
      "INFO:root:Shifted /Users/prashantronad/Documents/Samsung/Spatial-photo-expansion/Latest_testing/Original_Images/VMY0TXRO9J/stereo_right.png\n",
      "INFO:root:Inpainted /Users/prashantronad/Documents/Samsung/Spatial-photo-expansion/Latest_testing/Original_Images/VMY0TXRO9J/stereo_right.png\n",
      "INFO:root:Running OS process\n"
     ]
    },
    {
     "name": "stderr",
     "output_type": "stream",
     "text": [
      "ffmpeg version 7.1 Copyright (c) 2000-2024 the FFmpeg developers\n",
      "  built with Apple clang version 16.0.0 (clang-1600.0.26.4)\n",
      "  configuration: --prefix=/opt/homebrew/Cellar/ffmpeg/7.1_4 --enable-shared --enable-pthreads --enable-version3 --cc=clang --host-cflags= --host-ldflags='-Wl,-ld_classic' --enable-ffplay --enable-gnutls --enable-gpl --enable-libaom --enable-libaribb24 --enable-libbluray --enable-libdav1d --enable-libharfbuzz --enable-libjxl --enable-libmp3lame --enable-libopus --enable-librav1e --enable-librist --enable-librubberband --enable-libsnappy --enable-libsrt --enable-libssh --enable-libsvtav1 --enable-libtesseract --enable-libtheora --enable-libvidstab --enable-libvmaf --enable-libvorbis --enable-libvpx --enable-libwebp --enable-libx264 --enable-libx265 --enable-libxml2 --enable-libxvid --enable-lzma --enable-libfontconfig --enable-libfreetype --enable-frei0r --enable-libass --enable-libopencore-amrnb --enable-libopencore-amrwb --enable-libopenjpeg --enable-libspeex --enable-libsoxr --enable-libzmq --enable-libzimg --disable-libjack --disable-indev=jack --enable-videotoolbox --enable-audiotoolbox --enable-neon\n",
      "  libavutil      59. 39.100 / 59. 39.100\n",
      "  libavcodec     61. 19.100 / 61. 19.100\n",
      "  libavformat    61.  7.100 / 61.  7.100\n",
      "  libavdevice    61.  3.100 / 61.  3.100\n",
      "  libavfilter    10.  4.100 / 10.  4.100\n",
      "  libswscale      8.  3.100 /  8.  3.100\n",
      "  libswresample   5.  3.100 /  5.  3.100\n",
      "  libpostproc    58.  3.100 / 58.  3.100\n",
      "Input #0, png_pipe, from '/Users/prashantronad/Documents/Samsung/Spatial-photo-expansion/Latest_testing/Original_Images/VMY0TXRO9J/stereo_left.png':\n",
      "  Duration: N/A, bitrate: N/A\n",
      "  Stream #0:0: Video: png, rgb24(pc, gbr/unknown/unknown), 4896x3268, 25 fps, 25 tbr, 25 tbn\n",
      "Input #1, png_pipe, from '/Users/prashantronad/Documents/Samsung/Spatial-photo-expansion/Latest_testing/Original_Images/VMY0TXRO9J/stereo_right.png':\n",
      "  Duration: N/A, bitrate: N/A\n",
      "  Stream #1:0: Video: png, rgb24(pc, gbr/unknown/unknown), 4896x3268, 25 fps, 25 tbr, 25 tbn\n",
      "Stream mapping:\n",
      "  Stream #0:0 (png) -> hstack\n",
      "  Stream #1:0 (png) -> hstack\n",
      "  hstack:default -> Stream #0:0 (libx265)\n",
      "Press [q] to stop, [?] for help\n",
      "[libx265 @ 0x11ff07750] Unknown option: vframes.\n",
      "[libx265 @ 0x11ff07750] Unknown option: hevc_mv.\n",
      "x265 [info]: HEVC encoder version 4.1+1-1d117be\n",
      "x265 [info]: build info [Mac OS X][clang 16.0.0][64 bit] 8bit+10bit+12bit\n",
      "x265 [info]: using cpu capabilities: NEON Neon_DotProd Neon_I8MM\n",
      "x265 [warning]: halving the quality when psy-rd is enabled for 444 input. Setting cbQpOffset = 6 and crQpOffset = 6\n",
      "x265 [info]: Main 4:4:4 profile, Level-6 (Main tier)\n",
      "x265 [info]: Thread pool created using 12 threads\n",
      "x265 [info]: Slices                              : 1\n",
      "x265 [info]: frame threads / pool features       : 3 / wpp(52 rows)\n",
      "x265 [info]: Coding QT: max CU size, min CU size : 64 / 8\n",
      "x265 [info]: Residual QT: max TU size, max depth : 32 / 1 inter / 1 intra\n",
      "x265 [info]: ME / range / subpel / merge         : hex / 57 / 2 / 3\n",
      "x265 [info]: Keyframe min / max / scenecut / bias  : 25 / 250 / 40 / 5.00 \n",
      "x265 [info]: Cb/Cr QP Offset                     : 6 / 6\n",
      "x265 [info]: Lookahead / bframes / badapt        : 20 / 4 / 2\n",
      "x265 [info]: b-pyramid / weightp / weightb       : 1 / 1 / 0\n",
      "x265 [info]: References / ref-limit  cu / depth  : 3 / off / on\n",
      "x265 [info]: AQ: mode / str / qg-size / cu-tree  : 2 / 1.0 / 32 / 1\n",
      "x265 [info]: Rate Control / qCompress            : CRF-28.0 / 0.60\n",
      "x265 [info]: tools: rd=3 psy-rd=2.00 early-skip rskip mode=1 signhide tmvp\n",
      "x265 [info]: tools: b-intra strong-intra-smoothing lslices=8 deblock sao\n",
      "Output #0, hevc, to '/Users/prashantronad/Documents/Samsung/Spatial-photo-expansion/Latest_testing/Original_Images/VMY0TXRO9J/bowlingpins_sbs.hevc':\n",
      "  Metadata:\n",
      "    encoder         : Lavf61.7.100\n",
      "  Stream #0:0: Video: hevc, gbrp(pc, gbr/unknown/unknown, progressive), 9792x3268, q=2-31, 25 fps, 25 tbn\n",
      "      Metadata:\n",
      "        encoder         : Lavc61.19.100 libx265\n",
      "      Side data:\n",
      "        cpb: bitrate max/min/avg: 0/0/0 buffer size: 0 vbv_delay: N/A\n",
      "[out#0/hevc @ 0x11ff06340] video:2112KiB audio:0KiB subtitle:0KiB other streams:0KiB global headers:0KiB muxing overhead: 0.000000%\n",
      "frame=    1 fps=0.5 q=32.4 Lsize=    2112KiB time=00:00:00.04 bitrate=432487.8kbits/s speed=0.02x    \n",
      "x265 [info]: frame I:      1, Avg QP:32.42  kb/s: 432021.40\n",
      "\n",
      "encoded 1 frames in 1.77s (0.57 fps), 432021.44 kb/s, Avg QP:32.42\n"
     ]
    }
   ],
   "source": [
    "import os\n",
    "import subprocess\n",
    "from pathlib import Path\n",
    "\n",
    "# Path to the virtual environment activation script\n",
    "\n",
    "subprocess.run(f\"source test/bin/activate\", shell=True, check=True)\n",
    "\n",
    "# Directory containing the images\n",
    "image_dir = Path(\"/Users/prashantronad/Documents/Samsung/Spatial-photo-expansion/Latest_testing/Original_Images\")\n",
    "\n",
    "# Iterate over all PNG images in the directory\n",
    "for image_path in image_dir.glob(\"*.png\"):\n",
    "    # Construct the command to run main.py with the current image\n",
    "    print(image_path)\n",
    "    command = f\"python3 main.py --photo {image_path}\"\n",
    "    \n",
    "    # Run the command in a shell\n",
    "    subprocess.run(command, shell=True, check=True)"
   ]
  },
  {
   "cell_type": "code",
   "execution_count": 8,
   "metadata": {},
   "outputs": [
    {
     "name": "stdout",
     "output_type": "stream",
     "text": [
      "/Users/prashantronad/Documents/Samsung/Spatial-photo-expansion/Latest_testing/Outpainted_Images/ladyposingpinktree.png\n"
     ]
    },
    {
     "name": "stderr",
     "output_type": "stream",
     "text": [
      "/Users/prashantronad/Library/Python/3.9/lib/python/site-packages/urllib3/__init__.py:35: NotOpenSSLWarning: urllib3 v2 only supports OpenSSL 1.1.1+, currently the 'ssl' module is compiled with 'LibreSSL 2.8.3'. See: https://github.com/urllib3/urllib3/issues/3020\n",
      "  warnings.warn(\n"
     ]
    },
    {
     "name": "stdout",
     "output_type": "stream",
     "text": [
      "INFO:root:Generating depth image. This might take long...\n"
     ]
    },
    {
     "name": "stderr",
     "output_type": "stream",
     "text": [
      "Device set to use mps:0\n",
      "/Users/prashantronad/Library/Python/3.9/lib/python/site-packages/torch/nn/functional.py:4594: UserWarning: The operator 'aten::upsample_bicubic2d.out' is not currently supported on the MPS backend and will fall back to run on the CPU. This may have performance implications. (Triggered internally at /Users/runner/work/pytorch/pytorch/pytorch/aten/src/ATen/mps/MPSFallback.mm:13.)\n",
      "  return torch._C._nn.upsample_bicubic2d(\n"
     ]
    },
    {
     "name": "stdout",
     "output_type": "stream",
     "text": [
      "INFO:root:Generating new directory /Users/prashantronad/Documents/Samsung/Spatial-photo-expansion/Latest_testing/Outpainted_Images/4AEE8XGUZO\n",
      "INFO:root:Saved new file /Users/prashantronad/Documents/Samsung/Spatial-photo-expansion/Latest_testing/Outpainted_Images/4AEE8XGUZO/depth_image.jpg\n",
      "INFO:root:Shifted /Users/prashantronad/Documents/Samsung/Spatial-photo-expansion/Latest_testing/Outpainted_Images/4AEE8XGUZO/stereo_left.png\n",
      "INFO:root:Inpainted /Users/prashantronad/Documents/Samsung/Spatial-photo-expansion/Latest_testing/Outpainted_Images/4AEE8XGUZO/stereo_left.png\n",
      "INFO:root:Shifted /Users/prashantronad/Documents/Samsung/Spatial-photo-expansion/Latest_testing/Outpainted_Images/4AEE8XGUZO/stereo_right.png\n",
      "INFO:root:Inpainted /Users/prashantronad/Documents/Samsung/Spatial-photo-expansion/Latest_testing/Outpainted_Images/4AEE8XGUZO/stereo_right.png\n",
      "INFO:root:Running OS process\n"
     ]
    },
    {
     "name": "stderr",
     "output_type": "stream",
     "text": [
      "ffmpeg version 7.1 Copyright (c) 2000-2024 the FFmpeg developers\n",
      "  built with Apple clang version 16.0.0 (clang-1600.0.26.4)\n",
      "  configuration: --prefix=/opt/homebrew/Cellar/ffmpeg/7.1_4 --enable-shared --enable-pthreads --enable-version3 --cc=clang --host-cflags= --host-ldflags='-Wl,-ld_classic' --enable-ffplay --enable-gnutls --enable-gpl --enable-libaom --enable-libaribb24 --enable-libbluray --enable-libdav1d --enable-libharfbuzz --enable-libjxl --enable-libmp3lame --enable-libopus --enable-librav1e --enable-librist --enable-librubberband --enable-libsnappy --enable-libsrt --enable-libssh --enable-libsvtav1 --enable-libtesseract --enable-libtheora --enable-libvidstab --enable-libvmaf --enable-libvorbis --enable-libvpx --enable-libwebp --enable-libx264 --enable-libx265 --enable-libxml2 --enable-libxvid --enable-lzma --enable-libfontconfig --enable-libfreetype --enable-frei0r --enable-libass --enable-libopencore-amrnb --enable-libopencore-amrwb --enable-libopenjpeg --enable-libspeex --enable-libsoxr --enable-libzmq --enable-libzimg --disable-libjack --disable-indev=jack --enable-videotoolbox --enable-audiotoolbox --enable-neon\n",
      "  libavutil      59. 39.100 / 59. 39.100\n",
      "  libavcodec     61. 19.100 / 61. 19.100\n",
      "  libavformat    61.  7.100 / 61.  7.100\n",
      "  libavdevice    61.  3.100 / 61.  3.100\n",
      "  libavfilter    10.  4.100 / 10.  4.100\n",
      "  libswscale      8.  3.100 /  8.  3.100\n",
      "  libswresample   5.  3.100 /  5.  3.100\n",
      "  libpostproc    58.  3.100 / 58.  3.100\n",
      "Input #0, png_pipe, from '/Users/prashantronad/Documents/Samsung/Spatial-photo-expansion/Latest_testing/Outpainted_Images/4AEE8XGUZO/stereo_left.png':\n",
      "  Duration: N/A, bitrate: N/A\n",
      "  Stream #0:0: Video: png, rgb24(pc, gbr/unknown/unknown), 1280x720, 25 fps, 25 tbr, 25 tbn\n",
      "Input #1, png_pipe, from '/Users/prashantronad/Documents/Samsung/Spatial-photo-expansion/Latest_testing/Outpainted_Images/4AEE8XGUZO/stereo_right.png':\n",
      "  Duration: N/A, bitrate: N/A\n",
      "  Stream #1:0: Video: png, rgb24(pc, gbr/unknown/unknown), 1280x720, 25 fps, 25 tbr, 25 tbn\n",
      "Stream mapping:\n",
      "  Stream #0:0 (png) -> hstack\n",
      "  Stream #1:0 (png) -> hstack\n",
      "  hstack:default -> Stream #0:0 (libx265)\n",
      "Press [q] to stop, [?] for help\n",
      "[libx265 @ 0x128e31110] Unknown option: vframes.\n",
      "[libx265 @ 0x128e31110] Unknown option: hevc_mv.\n",
      "x265 [info]: HEVC encoder version 4.1+1-1d117be\n",
      "x265 [info]: build info [Mac OS X][clang 16.0.0][64 bit] 8bit+10bit+12bit\n",
      "x265 [info]: using cpu capabilities: NEON Neon_DotProd Neon_I8MM\n",
      "x265 [warning]: halving the quality when psy-rd is enabled for 444 input. Setting cbQpOffset = 6 and crQpOffset = 6\n",
      "x265 [info]: Main 4:4:4 profile, Level-4 (Main tier)\n",
      "x265 [info]: Thread pool created using 12 threads\n",
      "x265 [info]: Slices                              : 1\n",
      "x265 [info]: frame threads / pool features       : 3 / wpp(12 rows)\n",
      "x265 [info]: Coding QT: max CU size, min CU size : 64 / 8\n",
      "x265 [info]: Residual QT: max TU size, max depth : 32 / 1 inter / 1 intra\n",
      "x265 [info]: ME / range / subpel / merge         : hex / 57 / 2 / 3\n",
      "x265 [info]: Keyframe min / max / scenecut / bias  : 25 / 250 / 40 / 5.00 \n",
      "x265 [info]: Cb/Cr QP Offset                     : 6 / 6\n",
      "x265 [info]: Lookahead / bframes / badapt        : 20 / 4 / 2\n",
      "x265 [info]: b-pyramid / weightp / weightb       : 1 / 1 / 0\n",
      "x265 [info]: References / ref-limit  cu / depth  : 3 / off / on\n",
      "x265 [info]: AQ: mode / str / qg-size / cu-tree  : 2 / 1.0 / 32 / 1\n",
      "x265 [info]: Rate Control / qCompress            : CRF-28.0 / 0.60\n",
      "x265 [info]: tools: rd=3 psy-rd=2.00 early-skip rskip mode=1 signhide tmvp\n",
      "x265 [info]: tools: b-intra strong-intra-smoothing lslices=4 deblock sao\n",
      "Output #0, hevc, to '/Users/prashantronad/Documents/Samsung/Spatial-photo-expansion/Latest_testing/Outpainted_Images/4AEE8XGUZO/ladyposingpinktree_sbs.hevc':\n",
      "  Metadata:\n",
      "    encoder         : Lavf61.7.100\n",
      "  Stream #0:0: Video: hevc, gbrp(pc, gbr/unknown/unknown, progressive), 2560x720, q=2-31, 25 fps, 25 tbn\n",
      "      Metadata:\n",
      "        encoder         : Lavc61.19.100 libx265\n",
      "      Side data:\n",
      "        cpb: bitrate max/min/avg: 0/0/0 buffer size: 0 vbv_delay: N/A\n",
      "[out#0/hevc @ 0x128e2fcb0] video:228KiB audio:0KiB subtitle:0KiB other streams:0KiB global headers:0KiB muxing overhead: 0.000000%\n",
      "frame=    1 fps=0.0 q=33.9 Lsize=     228KiB time=00:00:00.04 bitrate=46685.0kbits/s speed=0.213x    \n",
      "x265 [info]: frame I:      1, Avg QP:33.94  kb/s: 46218.80\n",
      "\n",
      "encoded 1 frames in 0.17s (5.98 fps), 46218.80 kb/s, Avg QP:33.94\n"
     ]
    },
    {
     "name": "stdout",
     "output_type": "stream",
     "text": [
      "/Users/prashantronad/Documents/Samsung/Spatial-photo-expansion/Latest_testing/Outpainted_Images/carposing.png\n"
     ]
    },
    {
     "name": "stderr",
     "output_type": "stream",
     "text": [
      "/Users/prashantronad/Library/Python/3.9/lib/python/site-packages/urllib3/__init__.py:35: NotOpenSSLWarning: urllib3 v2 only supports OpenSSL 1.1.1+, currently the 'ssl' module is compiled with 'LibreSSL 2.8.3'. See: https://github.com/urllib3/urllib3/issues/3020\n",
      "  warnings.warn(\n"
     ]
    },
    {
     "name": "stdout",
     "output_type": "stream",
     "text": [
      "INFO:root:Generating depth image. This might take long...\n"
     ]
    },
    {
     "name": "stderr",
     "output_type": "stream",
     "text": [
      "Device set to use mps:0\n",
      "/Users/prashantronad/Library/Python/3.9/lib/python/site-packages/torch/nn/functional.py:4594: UserWarning: The operator 'aten::upsample_bicubic2d.out' is not currently supported on the MPS backend and will fall back to run on the CPU. This may have performance implications. (Triggered internally at /Users/runner/work/pytorch/pytorch/pytorch/aten/src/ATen/mps/MPSFallback.mm:13.)\n",
      "  return torch._C._nn.upsample_bicubic2d(\n"
     ]
    },
    {
     "name": "stdout",
     "output_type": "stream",
     "text": [
      "INFO:root:Generating new directory /Users/prashantronad/Documents/Samsung/Spatial-photo-expansion/Latest_testing/Outpainted_Images/M5WTV0ZLDT\n",
      "INFO:root:Saved new file /Users/prashantronad/Documents/Samsung/Spatial-photo-expansion/Latest_testing/Outpainted_Images/M5WTV0ZLDT/depth_image.jpg\n",
      "INFO:root:Shifted /Users/prashantronad/Documents/Samsung/Spatial-photo-expansion/Latest_testing/Outpainted_Images/M5WTV0ZLDT/stereo_left.png\n",
      "INFO:root:Inpainted /Users/prashantronad/Documents/Samsung/Spatial-photo-expansion/Latest_testing/Outpainted_Images/M5WTV0ZLDT/stereo_left.png\n",
      "INFO:root:Shifted /Users/prashantronad/Documents/Samsung/Spatial-photo-expansion/Latest_testing/Outpainted_Images/M5WTV0ZLDT/stereo_right.png\n",
      "INFO:root:Inpainted /Users/prashantronad/Documents/Samsung/Spatial-photo-expansion/Latest_testing/Outpainted_Images/M5WTV0ZLDT/stereo_right.png\n",
      "INFO:root:Running OS process\n"
     ]
    },
    {
     "name": "stderr",
     "output_type": "stream",
     "text": [
      "ffmpeg version 7.1 Copyright (c) 2000-2024 the FFmpeg developers\n",
      "  built with Apple clang version 16.0.0 (clang-1600.0.26.4)\n",
      "  configuration: --prefix=/opt/homebrew/Cellar/ffmpeg/7.1_4 --enable-shared --enable-pthreads --enable-version3 --cc=clang --host-cflags= --host-ldflags='-Wl,-ld_classic' --enable-ffplay --enable-gnutls --enable-gpl --enable-libaom --enable-libaribb24 --enable-libbluray --enable-libdav1d --enable-libharfbuzz --enable-libjxl --enable-libmp3lame --enable-libopus --enable-librav1e --enable-librist --enable-librubberband --enable-libsnappy --enable-libsrt --enable-libssh --enable-libsvtav1 --enable-libtesseract --enable-libtheora --enable-libvidstab --enable-libvmaf --enable-libvorbis --enable-libvpx --enable-libwebp --enable-libx264 --enable-libx265 --enable-libxml2 --enable-libxvid --enable-lzma --enable-libfontconfig --enable-libfreetype --enable-frei0r --enable-libass --enable-libopencore-amrnb --enable-libopencore-amrwb --enable-libopenjpeg --enable-libspeex --enable-libsoxr --enable-libzmq --enable-libzimg --disable-libjack --disable-indev=jack --enable-videotoolbox --enable-audiotoolbox --enable-neon\n",
      "  libavutil      59. 39.100 / 59. 39.100\n",
      "  libavcodec     61. 19.100 / 61. 19.100\n",
      "  libavformat    61.  7.100 / 61.  7.100\n",
      "  libavdevice    61.  3.100 / 61.  3.100\n",
      "  libavfilter    10.  4.100 / 10.  4.100\n",
      "  libswscale      8.  3.100 /  8.  3.100\n",
      "  libswresample   5.  3.100 /  5.  3.100\n",
      "  libpostproc    58.  3.100 / 58.  3.100\n",
      "Input #0, png_pipe, from '/Users/prashantronad/Documents/Samsung/Spatial-photo-expansion/Latest_testing/Outpainted_Images/M5WTV0ZLDT/stereo_left.png':\n",
      "  Duration: N/A, bitrate: N/A\n",
      "  Stream #0:0: Video: png, rgb24(pc, gbr/unknown/unknown), 720x1280, 25 fps, 25 tbr, 25 tbn\n",
      "Input #1, png_pipe, from '/Users/prashantronad/Documents/Samsung/Spatial-photo-expansion/Latest_testing/Outpainted_Images/M5WTV0ZLDT/stereo_right.png':\n",
      "  Duration: N/A, bitrate: N/A\n",
      "  Stream #1:0: Video: png, rgb24(pc, gbr/unknown/unknown), 720x1280, 25 fps, 25 tbr, 25 tbn\n",
      "Stream mapping:\n",
      "  Stream #0:0 (png) -> hstack\n",
      "  Stream #1:0 (png) -> hstack\n",
      "  hstack:default -> Stream #0:0 (libx265)\n",
      "Press [q] to stop, [?] for help\n",
      "[libx265 @ 0x1547099f0] Unknown option: vframes.\n",
      "[libx265 @ 0x1547099f0] Unknown option: hevc_mv.\n",
      "x265 [info]: HEVC encoder version 4.1+1-1d117be\n",
      "x265 [info]: build info [Mac OS X][clang 16.0.0][64 bit] 8bit+10bit+12bit\n",
      "x265 [info]: using cpu capabilities: NEON Neon_DotProd Neon_I8MM\n",
      "x265 [warning]: halving the quality when psy-rd is enabled for 444 input. Setting cbQpOffset = 6 and crQpOffset = 6\n",
      "x265 [info]: Main 4:4:4 profile, Level-4 (Main tier)\n",
      "x265 [info]: Thread pool created using 12 threads\n",
      "x265 [info]: Slices                              : 1\n",
      "x265 [info]: frame threads / pool features       : 3 / wpp(20 rows)\n",
      "x265 [info]: Coding QT: max CU size, min CU size : 64 / 8\n",
      "x265 [info]: Residual QT: max TU size, max depth : 32 / 1 inter / 1 intra\n",
      "x265 [info]: ME / range / subpel / merge         : hex / 57 / 2 / 3\n",
      "x265 [info]: Keyframe min / max / scenecut / bias  : 25 / 250 / 40 / 5.00 \n",
      "x265 [info]: Cb/Cr QP Offset                     : 6 / 6\n",
      "x265 [info]: Lookahead / bframes / badapt        : 20 / 4 / 2\n",
      "x265 [info]: b-pyramid / weightp / weightb       : 1 / 1 / 0\n",
      "x265 [info]: References / ref-limit  cu / depth  : 3 / off / on\n",
      "x265 [info]: AQ: mode / str / qg-size / cu-tree  : 2 / 1.0 / 32 / 1\n",
      "x265 [info]: Rate Control / qCompress            : CRF-28.0 / 0.60\n",
      "x265 [info]: tools: rd=3 psy-rd=2.00 early-skip rskip mode=1 signhide tmvp\n",
      "x265 [info]: tools: b-intra strong-intra-smoothing lslices=8 deblock sao\n",
      "Output #0, hevc, to '/Users/prashantronad/Documents/Samsung/Spatial-photo-expansion/Latest_testing/Outpainted_Images/M5WTV0ZLDT/carposing_sbs.hevc':\n",
      "  Metadata:\n",
      "    encoder         : Lavf61.7.100\n",
      "  Stream #0:0: Video: hevc, gbrp(pc, gbr/unknown/unknown, progressive), 1440x1280, q=2-31, 25 fps, 25 tbn\n",
      "      Metadata:\n",
      "        encoder         : Lavc61.19.100 libx265\n",
      "      Side data:\n",
      "        cpb: bitrate max/min/avg: 0/0/0 buffer size: 0 vbv_delay: N/A\n",
      "[out#0/hevc @ 0x154706ca0] video:86KiB audio:0KiB subtitle:0KiB other streams:0KiB global headers:0KiB muxing overhead: 0.000000%\n",
      "frame=    1 fps=0.0 q=32.0 Lsize=      86KiB time=N/A bitrate=N/A speed=N/A    \n",
      "x265 [info]: frame I:      1, Avg QP:32.01  kb/s: 17162.40\n",
      "\n",
      "encoded 1 frames in 0.13s (7.99 fps), 17162.40 kb/s, Avg QP:32.01\n"
     ]
    },
    {
     "name": "stdout",
     "output_type": "stream",
     "text": [
      "/Users/prashantronad/Documents/Samsung/Spatial-photo-expansion/Latest_testing/Outpainted_Images/guytakingphoto.png\n"
     ]
    },
    {
     "name": "stderr",
     "output_type": "stream",
     "text": [
      "/Users/prashantronad/Library/Python/3.9/lib/python/site-packages/urllib3/__init__.py:35: NotOpenSSLWarning: urllib3 v2 only supports OpenSSL 1.1.1+, currently the 'ssl' module is compiled with 'LibreSSL 2.8.3'. See: https://github.com/urllib3/urllib3/issues/3020\n",
      "  warnings.warn(\n"
     ]
    },
    {
     "name": "stdout",
     "output_type": "stream",
     "text": [
      "INFO:root:Generating depth image. This might take long...\n"
     ]
    },
    {
     "name": "stderr",
     "output_type": "stream",
     "text": [
      "Device set to use mps:0\n",
      "/Users/prashantronad/Library/Python/3.9/lib/python/site-packages/torch/nn/functional.py:4594: UserWarning: The operator 'aten::upsample_bicubic2d.out' is not currently supported on the MPS backend and will fall back to run on the CPU. This may have performance implications. (Triggered internally at /Users/runner/work/pytorch/pytorch/pytorch/aten/src/ATen/mps/MPSFallback.mm:13.)\n",
      "  return torch._C._nn.upsample_bicubic2d(\n"
     ]
    },
    {
     "name": "stdout",
     "output_type": "stream",
     "text": [
      "INFO:root:Generating new directory /Users/prashantronad/Documents/Samsung/Spatial-photo-expansion/Latest_testing/Outpainted_Images/6TP5R1S18G\n",
      "INFO:root:Saved new file /Users/prashantronad/Documents/Samsung/Spatial-photo-expansion/Latest_testing/Outpainted_Images/6TP5R1S18G/depth_image.jpg\n",
      "INFO:root:Shifted /Users/prashantronad/Documents/Samsung/Spatial-photo-expansion/Latest_testing/Outpainted_Images/6TP5R1S18G/stereo_left.png\n",
      "INFO:root:Inpainted /Users/prashantronad/Documents/Samsung/Spatial-photo-expansion/Latest_testing/Outpainted_Images/6TP5R1S18G/stereo_left.png\n",
      "INFO:root:Shifted /Users/prashantronad/Documents/Samsung/Spatial-photo-expansion/Latest_testing/Outpainted_Images/6TP5R1S18G/stereo_right.png\n",
      "INFO:root:Inpainted /Users/prashantronad/Documents/Samsung/Spatial-photo-expansion/Latest_testing/Outpainted_Images/6TP5R1S18G/stereo_right.png\n",
      "INFO:root:Running OS process\n"
     ]
    },
    {
     "name": "stderr",
     "output_type": "stream",
     "text": [
      "ffmpeg version 7.1 Copyright (c) 2000-2024 the FFmpeg developers\n",
      "  built with Apple clang version 16.0.0 (clang-1600.0.26.4)\n",
      "  configuration: --prefix=/opt/homebrew/Cellar/ffmpeg/7.1_4 --enable-shared --enable-pthreads --enable-version3 --cc=clang --host-cflags= --host-ldflags='-Wl,-ld_classic' --enable-ffplay --enable-gnutls --enable-gpl --enable-libaom --enable-libaribb24 --enable-libbluray --enable-libdav1d --enable-libharfbuzz --enable-libjxl --enable-libmp3lame --enable-libopus --enable-librav1e --enable-librist --enable-librubberband --enable-libsnappy --enable-libsrt --enable-libssh --enable-libsvtav1 --enable-libtesseract --enable-libtheora --enable-libvidstab --enable-libvmaf --enable-libvorbis --enable-libvpx --enable-libwebp --enable-libx264 --enable-libx265 --enable-libxml2 --enable-libxvid --enable-lzma --enable-libfontconfig --enable-libfreetype --enable-frei0r --enable-libass --enable-libopencore-amrnb --enable-libopencore-amrwb --enable-libopenjpeg --enable-libspeex --enable-libsoxr --enable-libzmq --enable-libzimg --disable-libjack --disable-indev=jack --enable-videotoolbox --enable-audiotoolbox --enable-neon\n",
      "  libavutil      59. 39.100 / 59. 39.100\n",
      "  libavcodec     61. 19.100 / 61. 19.100\n",
      "  libavformat    61.  7.100 / 61.  7.100\n",
      "  libavdevice    61.  3.100 / 61.  3.100\n",
      "  libavfilter    10.  4.100 / 10.  4.100\n",
      "  libswscale      8.  3.100 /  8.  3.100\n",
      "  libswresample   5.  3.100 /  5.  3.100\n",
      "  libpostproc    58.  3.100 / 58.  3.100\n",
      "Input #0, png_pipe, from '/Users/prashantronad/Documents/Samsung/Spatial-photo-expansion/Latest_testing/Outpainted_Images/6TP5R1S18G/stereo_left.png':\n",
      "  Duration: N/A, bitrate: N/A\n",
      "  Stream #0:0: Video: png, rgb24(pc, gbr/unknown/unknown), 720x1280, 25 fps, 25 tbr, 25 tbn\n",
      "Input #1, png_pipe, from '/Users/prashantronad/Documents/Samsung/Spatial-photo-expansion/Latest_testing/Outpainted_Images/6TP5R1S18G/stereo_right.png':\n",
      "  Duration: N/A, bitrate: N/A\n",
      "  Stream #1:0: Video: png, rgb24(pc, gbr/unknown/unknown), 720x1280, 25 fps, 25 tbr, 25 tbn\n",
      "Stream mapping:\n",
      "  Stream #0:0 (png) -> hstack\n",
      "  Stream #1:0 (png) -> hstack\n",
      "  hstack:default -> Stream #0:0 (libx265)\n",
      "Press [q] to stop, [?] for help\n",
      "[libx265 @ 0x131f0afb0] Unknown option: vframes.\n",
      "[libx265 @ 0x131f0afb0] Unknown option: hevc_mv.\n",
      "x265 [info]: HEVC encoder version 4.1+1-1d117be\n",
      "x265 [info]: build info [Mac OS X][clang 16.0.0][64 bit] 8bit+10bit+12bit\n",
      "x265 [info]: using cpu capabilities: NEON Neon_DotProd Neon_I8MM\n",
      "x265 [warning]: halving the quality when psy-rd is enabled for 444 input. Setting cbQpOffset = 6 and crQpOffset = 6\n",
      "x265 [info]: Main 4:4:4 profile, Level-4 (Main tier)\n",
      "x265 [info]: Thread pool created using 12 threads\n",
      "x265 [info]: Slices                              : 1\n",
      "x265 [info]: frame threads / pool features       : 3 / wpp(20 rows)\n",
      "x265 [info]: Coding QT: max CU size, min CU size : 64 / 8\n",
      "x265 [info]: Residual QT: max TU size, max depth : 32 / 1 inter / 1 intra\n",
      "x265 [info]: ME / range / subpel / merge         : hex / 57 / 2 / 3\n",
      "x265 [info]: Keyframe min / max / scenecut / bias  : 25 / 250 / 40 / 5.00 \n",
      "x265 [info]: Cb/Cr QP Offset                     : 6 / 6\n",
      "x265 [info]: Lookahead / bframes / badapt        : 20 / 4 / 2\n",
      "x265 [info]: b-pyramid / weightp / weightb       : 1 / 1 / 0\n",
      "x265 [info]: References / ref-limit  cu / depth  : 3 / off / on\n",
      "x265 [info]: AQ: mode / str / qg-size / cu-tree  : 2 / 1.0 / 32 / 1\n",
      "x265 [info]: Rate Control / qCompress            : CRF-28.0 / 0.60\n",
      "x265 [info]: tools: rd=3 psy-rd=2.00 early-skip rskip mode=1 signhide tmvp\n",
      "x265 [info]: tools: b-intra strong-intra-smoothing lslices=8 deblock sao\n",
      "Output #0, hevc, to '/Users/prashantronad/Documents/Samsung/Spatial-photo-expansion/Latest_testing/Outpainted_Images/6TP5R1S18G/guytakingphoto_sbs.hevc':\n",
      "  Metadata:\n",
      "    encoder         : Lavf61.7.100\n",
      "  Stream #0:0: Video: hevc, gbrp(pc, gbr/unknown/unknown, progressive), 1440x1280, q=2-31, 25 fps, 25 tbn\n",
      "      Metadata:\n",
      "        encoder         : Lavc61.19.100 libx265\n",
      "      Side data:\n",
      "        cpb: bitrate max/min/avg: 0/0/0 buffer size: 0 vbv_delay: N/A\n",
      "[out#0/hevc @ 0x131f09c30] video:77KiB audio:0KiB subtitle:0KiB other streams:0KiB global headers:0KiB muxing overhead: 0.000000%\n",
      "frame=    1 fps=0.0 q=31.9 Lsize=      77KiB time=00:00:00.04 bitrate=15732.6kbits/s speed= 0.3x    \n",
      "x265 [info]: frame I:      1, Avg QP:31.89  kb/s: 15266.20\n",
      "\n",
      "encoded 1 frames in 0.12s (8.48 fps), 15266.20 kb/s, Avg QP:31.89\n"
     ]
    },
    {
     "name": "stdout",
     "output_type": "stream",
     "text": [
      "/Users/prashantronad/Documents/Samsung/Spatial-photo-expansion/Latest_testing/Outpainted_Images/toyotaonhills.png\n"
     ]
    },
    {
     "name": "stderr",
     "output_type": "stream",
     "text": [
      "/Users/prashantronad/Library/Python/3.9/lib/python/site-packages/urllib3/__init__.py:35: NotOpenSSLWarning: urllib3 v2 only supports OpenSSL 1.1.1+, currently the 'ssl' module is compiled with 'LibreSSL 2.8.3'. See: https://github.com/urllib3/urllib3/issues/3020\n",
      "  warnings.warn(\n"
     ]
    },
    {
     "name": "stdout",
     "output_type": "stream",
     "text": [
      "INFO:root:Generating depth image. This might take long...\n"
     ]
    },
    {
     "name": "stderr",
     "output_type": "stream",
     "text": [
      "Device set to use mps:0\n",
      "/Users/prashantronad/Library/Python/3.9/lib/python/site-packages/torch/nn/functional.py:4594: UserWarning: The operator 'aten::upsample_bicubic2d.out' is not currently supported on the MPS backend and will fall back to run on the CPU. This may have performance implications. (Triggered internally at /Users/runner/work/pytorch/pytorch/pytorch/aten/src/ATen/mps/MPSFallback.mm:13.)\n",
      "  return torch._C._nn.upsample_bicubic2d(\n"
     ]
    },
    {
     "name": "stdout",
     "output_type": "stream",
     "text": [
      "INFO:root:Generating new directory /Users/prashantronad/Documents/Samsung/Spatial-photo-expansion/Latest_testing/Outpainted_Images/WJ85BS74ZD\n",
      "INFO:root:Saved new file /Users/prashantronad/Documents/Samsung/Spatial-photo-expansion/Latest_testing/Outpainted_Images/WJ85BS74ZD/depth_image.jpg\n",
      "INFO:root:Shifted /Users/prashantronad/Documents/Samsung/Spatial-photo-expansion/Latest_testing/Outpainted_Images/WJ85BS74ZD/stereo_left.png\n",
      "INFO:root:Inpainted /Users/prashantronad/Documents/Samsung/Spatial-photo-expansion/Latest_testing/Outpainted_Images/WJ85BS74ZD/stereo_left.png\n",
      "INFO:root:Shifted /Users/prashantronad/Documents/Samsung/Spatial-photo-expansion/Latest_testing/Outpainted_Images/WJ85BS74ZD/stereo_right.png\n",
      "INFO:root:Inpainted /Users/prashantronad/Documents/Samsung/Spatial-photo-expansion/Latest_testing/Outpainted_Images/WJ85BS74ZD/stereo_right.png\n",
      "INFO:root:Running OS process\n"
     ]
    },
    {
     "name": "stderr",
     "output_type": "stream",
     "text": [
      "ffmpeg version 7.1 Copyright (c) 2000-2024 the FFmpeg developers\n",
      "  built with Apple clang version 16.0.0 (clang-1600.0.26.4)\n",
      "  configuration: --prefix=/opt/homebrew/Cellar/ffmpeg/7.1_4 --enable-shared --enable-pthreads --enable-version3 --cc=clang --host-cflags= --host-ldflags='-Wl,-ld_classic' --enable-ffplay --enable-gnutls --enable-gpl --enable-libaom --enable-libaribb24 --enable-libbluray --enable-libdav1d --enable-libharfbuzz --enable-libjxl --enable-libmp3lame --enable-libopus --enable-librav1e --enable-librist --enable-librubberband --enable-libsnappy --enable-libsrt --enable-libssh --enable-libsvtav1 --enable-libtesseract --enable-libtheora --enable-libvidstab --enable-libvmaf --enable-libvorbis --enable-libvpx --enable-libwebp --enable-libx264 --enable-libx265 --enable-libxml2 --enable-libxvid --enable-lzma --enable-libfontconfig --enable-libfreetype --enable-frei0r --enable-libass --enable-libopencore-amrnb --enable-libopencore-amrwb --enable-libopenjpeg --enable-libspeex --enable-libsoxr --enable-libzmq --enable-libzimg --disable-libjack --disable-indev=jack --enable-videotoolbox --enable-audiotoolbox --enable-neon\n",
      "  libavutil      59. 39.100 / 59. 39.100\n",
      "  libavcodec     61. 19.100 / 61. 19.100\n",
      "  libavformat    61.  7.100 / 61.  7.100\n",
      "  libavdevice    61.  3.100 / 61.  3.100\n",
      "  libavfilter    10.  4.100 / 10.  4.100\n",
      "  libswscale      8.  3.100 /  8.  3.100\n",
      "  libswresample   5.  3.100 /  5.  3.100\n",
      "  libpostproc    58.  3.100 / 58.  3.100\n",
      "Input #0, png_pipe, from '/Users/prashantronad/Documents/Samsung/Spatial-photo-expansion/Latest_testing/Outpainted_Images/WJ85BS74ZD/stereo_left.png':\n",
      "  Duration: N/A, bitrate: N/A\n",
      "  Stream #0:0: Video: png, rgb24(pc, gbr/unknown/unknown), 1280x720, 25 fps, 25 tbr, 25 tbn\n",
      "Input #1, png_pipe, from '/Users/prashantronad/Documents/Samsung/Spatial-photo-expansion/Latest_testing/Outpainted_Images/WJ85BS74ZD/stereo_right.png':\n",
      "  Duration: N/A, bitrate: N/A\n",
      "  Stream #1:0: Video: png, rgb24(pc, gbr/unknown/unknown), 1280x720, 25 fps, 25 tbr, 25 tbn\n",
      "Stream mapping:\n",
      "  Stream #0:0 (png) -> hstack\n",
      "  Stream #1:0 (png) -> hstack\n",
      "  hstack:default -> Stream #0:0 (libx265)\n",
      "Press [q] to stop, [?] for help\n",
      "[libx265 @ 0x12570afb0] Unknown option: vframes.\n",
      "[libx265 @ 0x12570afb0] Unknown option: hevc_mv.\n",
      "x265 [info]: HEVC encoder version 4.1+1-1d117be\n",
      "x265 [info]: build info [Mac OS X][clang 16.0.0][64 bit] 8bit+10bit+12bit\n",
      "x265 [info]: using cpu capabilities: NEON Neon_DotProd Neon_I8MM\n",
      "x265 [warning]: halving the quality when psy-rd is enabled for 444 input. Setting cbQpOffset = 6 and crQpOffset = 6\n",
      "x265 [info]: Main 4:4:4 profile, Level-4 (Main tier)\n",
      "x265 [info]: Thread pool created using 12 threads\n",
      "x265 [info]: Slices                              : 1\n",
      "x265 [info]: frame threads / pool features       : 3 / wpp(12 rows)\n",
      "x265 [info]: Coding QT: max CU size, min CU size : 64 / 8\n",
      "x265 [info]: Residual QT: max TU size, max depth : 32 / 1 inter / 1 intra\n",
      "x265 [info]: ME / range / subpel / merge         : hex / 57 / 2 / 3\n",
      "x265 [info]: Keyframe min / max / scenecut / bias  : 25 / 250 / 40 / 5.00 \n",
      "x265 [info]: Cb/Cr QP Offset                     : 6 / 6\n",
      "x265 [info]: Lookahead / bframes / badapt        : 20 / 4 / 2\n",
      "x265 [info]: b-pyramid / weightp / weightb       : 1 / 1 / 0\n",
      "x265 [info]: References / ref-limit  cu / depth  : 3 / off / on\n",
      "x265 [info]: AQ: mode / str / qg-size / cu-tree  : 2 / 1.0 / 32 / 1\n",
      "x265 [info]: Rate Control / qCompress            : CRF-28.0 / 0.60\n",
      "x265 [info]: tools: rd=3 psy-rd=2.00 early-skip rskip mode=1 signhide tmvp\n",
      "x265 [info]: tools: b-intra strong-intra-smoothing lslices=4 deblock sao\n",
      "Output #0, hevc, to '/Users/prashantronad/Documents/Samsung/Spatial-photo-expansion/Latest_testing/Outpainted_Images/WJ85BS74ZD/toyotaonhills_sbs.hevc':\n",
      "  Metadata:\n",
      "    encoder         : Lavf61.7.100\n",
      "  Stream #0:0: Video: hevc, gbrp(pc, gbr/unknown/unknown, progressive), 2560x720, q=2-31, 25 fps, 25 tbn\n",
      "      Metadata:\n",
      "        encoder         : Lavc61.19.100 libx265\n",
      "      Side data:\n",
      "        cpb: bitrate max/min/avg: 0/0/0 buffer size: 0 vbv_delay: N/A\n",
      "[out#0/hevc @ 0x125709c30] video:259KiB audio:0KiB subtitle:0KiB other streams:0KiB global headers:0KiB muxing overhead: 0.000000%\n",
      "frame=    1 fps=0.0 q=33.8 Lsize=     259KiB time=00:00:00.04 bitrate=53137.4kbits/s speed=0.194x    \n",
      "x265 [info]: frame I:      1, Avg QP:33.80  kb/s: 52671.20\n",
      "\n",
      "encoded 1 frames in 0.19s (5.31 fps), 52671.20 kb/s, Avg QP:33.80\n"
     ]
    },
    {
     "name": "stdout",
     "output_type": "stream",
     "text": [
      "/Users/prashantronad/Documents/Samsung/Spatial-photo-expansion/Latest_testing/Outpainted_Images/bowlingpins.png\n"
     ]
    },
    {
     "name": "stderr",
     "output_type": "stream",
     "text": [
      "/Users/prashantronad/Library/Python/3.9/lib/python/site-packages/urllib3/__init__.py:35: NotOpenSSLWarning: urllib3 v2 only supports OpenSSL 1.1.1+, currently the 'ssl' module is compiled with 'LibreSSL 2.8.3'. See: https://github.com/urllib3/urllib3/issues/3020\n",
      "  warnings.warn(\n"
     ]
    },
    {
     "name": "stdout",
     "output_type": "stream",
     "text": [
      "INFO:root:Generating depth image. This might take long...\n"
     ]
    },
    {
     "name": "stderr",
     "output_type": "stream",
     "text": [
      "Device set to use mps:0\n",
      "/Users/prashantronad/Library/Python/3.9/lib/python/site-packages/torch/nn/functional.py:4594: UserWarning: The operator 'aten::upsample_bicubic2d.out' is not currently supported on the MPS backend and will fall back to run on the CPU. This may have performance implications. (Triggered internally at /Users/runner/work/pytorch/pytorch/pytorch/aten/src/ATen/mps/MPSFallback.mm:13.)\n",
      "  return torch._C._nn.upsample_bicubic2d(\n"
     ]
    },
    {
     "name": "stdout",
     "output_type": "stream",
     "text": [
      "INFO:root:Generating new directory /Users/prashantronad/Documents/Samsung/Spatial-photo-expansion/Latest_testing/Outpainted_Images/PIPVNO2K8D\n",
      "INFO:root:Saved new file /Users/prashantronad/Documents/Samsung/Spatial-photo-expansion/Latest_testing/Outpainted_Images/PIPVNO2K8D/depth_image.jpg\n",
      "INFO:root:Shifted /Users/prashantronad/Documents/Samsung/Spatial-photo-expansion/Latest_testing/Outpainted_Images/PIPVNO2K8D/stereo_left.png\n",
      "INFO:root:Inpainted /Users/prashantronad/Documents/Samsung/Spatial-photo-expansion/Latest_testing/Outpainted_Images/PIPVNO2K8D/stereo_left.png\n",
      "INFO:root:Shifted /Users/prashantronad/Documents/Samsung/Spatial-photo-expansion/Latest_testing/Outpainted_Images/PIPVNO2K8D/stereo_right.png\n",
      "INFO:root:Inpainted /Users/prashantronad/Documents/Samsung/Spatial-photo-expansion/Latest_testing/Outpainted_Images/PIPVNO2K8D/stereo_right.png\n",
      "INFO:root:Running OS process\n"
     ]
    },
    {
     "name": "stderr",
     "output_type": "stream",
     "text": [
      "ffmpeg version 7.1 Copyright (c) 2000-2024 the FFmpeg developers\n",
      "  built with Apple clang version 16.0.0 (clang-1600.0.26.4)\n",
      "  configuration: --prefix=/opt/homebrew/Cellar/ffmpeg/7.1_4 --enable-shared --enable-pthreads --enable-version3 --cc=clang --host-cflags= --host-ldflags='-Wl,-ld_classic' --enable-ffplay --enable-gnutls --enable-gpl --enable-libaom --enable-libaribb24 --enable-libbluray --enable-libdav1d --enable-libharfbuzz --enable-libjxl --enable-libmp3lame --enable-libopus --enable-librav1e --enable-librist --enable-librubberband --enable-libsnappy --enable-libsrt --enable-libssh --enable-libsvtav1 --enable-libtesseract --enable-libtheora --enable-libvidstab --enable-libvmaf --enable-libvorbis --enable-libvpx --enable-libwebp --enable-libx264 --enable-libx265 --enable-libxml2 --enable-libxvid --enable-lzma --enable-libfontconfig --enable-libfreetype --enable-frei0r --enable-libass --enable-libopencore-amrnb --enable-libopencore-amrwb --enable-libopenjpeg --enable-libspeex --enable-libsoxr --enable-libzmq --enable-libzimg --disable-libjack --disable-indev=jack --enable-videotoolbox --enable-audiotoolbox --enable-neon\n",
      "  libavutil      59. 39.100 / 59. 39.100\n",
      "  libavcodec     61. 19.100 / 61. 19.100\n",
      "  libavformat    61.  7.100 / 61.  7.100\n",
      "  libavdevice    61.  3.100 / 61.  3.100\n",
      "  libavfilter    10.  4.100 / 10.  4.100\n",
      "  libswscale      8.  3.100 /  8.  3.100\n",
      "  libswresample   5.  3.100 /  5.  3.100\n",
      "  libpostproc    58.  3.100 / 58.  3.100\n",
      "Input #0, png_pipe, from '/Users/prashantronad/Documents/Samsung/Spatial-photo-expansion/Latest_testing/Outpainted_Images/PIPVNO2K8D/stereo_left.png':\n",
      "  Duration: N/A, bitrate: N/A\n",
      "  Stream #0:0: Video: png, rgb24(pc, gbr/unknown/unknown), 720x1280, 25 fps, 25 tbr, 25 tbn\n",
      "Input #1, png_pipe, from '/Users/prashantronad/Documents/Samsung/Spatial-photo-expansion/Latest_testing/Outpainted_Images/PIPVNO2K8D/stereo_right.png':\n",
      "  Duration: N/A, bitrate: N/A\n",
      "  Stream #1:0: Video: png, rgb24(pc, gbr/unknown/unknown), 720x1280, 25 fps, 25 tbr, 25 tbn\n",
      "Stream mapping:\n",
      "  Stream #0:0 (png) -> hstack\n",
      "  Stream #1:0 (png) -> hstack\n",
      "  hstack:default -> Stream #0:0 (libx265)\n",
      "Press [q] to stop, [?] for help\n",
      "[libx265 @ 0x13bf30540] Unknown option: vframes.\n",
      "[libx265 @ 0x13bf30540] Unknown option: hevc_mv.\n",
      "x265 [info]: HEVC encoder version 4.1+1-1d117be\n",
      "x265 [info]: build info [Mac OS X][clang 16.0.0][64 bit] 8bit+10bit+12bit\n",
      "x265 [info]: using cpu capabilities: NEON Neon_DotProd Neon_I8MM\n",
      "x265 [warning]: halving the quality when psy-rd is enabled for 444 input. Setting cbQpOffset = 6 and crQpOffset = 6\n",
      "x265 [info]: Main 4:4:4 profile, Level-4 (Main tier)\n",
      "x265 [info]: Thread pool created using 12 threads\n",
      "x265 [info]: Slices                              : 1\n",
      "x265 [info]: frame threads / pool features       : 3 / wpp(20 rows)\n",
      "x265 [info]: Coding QT: max CU size, min CU size : 64 / 8\n",
      "x265 [info]: Residual QT: max TU size, max depth : 32 / 1 inter / 1 intra\n",
      "x265 [info]: ME / range / subpel / merge         : hex / 57 / 2 / 3\n",
      "x265 [info]: Keyframe min / max / scenecut / bias  : 25 / 250 / 40 / 5.00 \n",
      "x265 [info]: Cb/Cr QP Offset                     : 6 / 6\n",
      "x265 [info]: Lookahead / bframes / badapt        : 20 / 4 / 2\n",
      "x265 [info]: b-pyramid / weightp / weightb       : 1 / 1 / 0\n",
      "x265 [info]: References / ref-limit  cu / depth  : 3 / off / on\n",
      "x265 [info]: AQ: mode / str / qg-size / cu-tree  : 2 / 1.0 / 32 / 1\n",
      "x265 [info]: Rate Control / qCompress            : CRF-28.0 / 0.60\n",
      "x265 [info]: tools: rd=3 psy-rd=2.00 early-skip rskip mode=1 signhide tmvp\n",
      "x265 [info]: tools: b-intra strong-intra-smoothing lslices=8 deblock sao\n",
      "Output #0, hevc, to '/Users/prashantronad/Documents/Samsung/Spatial-photo-expansion/Latest_testing/Outpainted_Images/PIPVNO2K8D/bowlingpins_sbs.hevc':\n",
      "  Metadata:\n",
      "    encoder         : Lavf61.7.100\n",
      "  Stream #0:0: Video: hevc, gbrp(pc, gbr/unknown/unknown, progressive), 1440x1280, q=2-31, 25 fps, 25 tbn\n",
      "      Metadata:\n",
      "        encoder         : Lavc61.19.100 libx265\n",
      "      Side data:\n",
      "        cpb: bitrate max/min/avg: 0/0/0 buffer size: 0 vbv_delay: N/A\n",
      "[out#0/hevc @ 0x13bf2f2d0] video:30KiB audio:0KiB subtitle:0KiB other streams:0KiB global headers:0KiB muxing overhead: 0.000000%\n",
      "frame=    1 fps=0.0 q=31.5 Lsize=      30KiB time=N/A bitrate=N/A speed=N/A    \n",
      "x265 [info]: frame I:      1, Avg QP:31.48  kb/s: 5642.60 \n",
      "\n",
      "encoded 1 frames in 0.09s (11.22 fps), 5642.60 kb/s, Avg QP:31.48\n"
     ]
    }
   ],
   "source": [
    "import os\n",
    "import subprocess\n",
    "from pathlib import Path\n",
    "\n",
    "# Path to the virtual environment activation script\n",
    "\n",
    "subprocess.run(f\"source test/bin/activate\", shell=True, check=True)\n",
    "\n",
    "# Directory containing the images\n",
    "image_dir = Path(\"/Users/prashantronad/Documents/Samsung/Spatial-photo-expansion/Latest_testing/Outpainted_Images\")\n",
    "\n",
    "# Iterate over all PNG images in the directory\n",
    "for image_path in image_dir.glob(\"*.png\"):\n",
    "    # Construct the command to run main.py with the current image\n",
    "    print(image_path)\n",
    "    command = f\"python3 main.py --photo {image_path}\"\n",
    "    \n",
    "    # Run the command in a shell\n",
    "    subprocess.run(command, shell=True, check=True)"
   ]
  },
  {
   "cell_type": "code",
   "execution_count": null,
   "metadata": {},
   "outputs": [],
   "source": []
  }
 ],
 "metadata": {
  "kernelspec": {
   "display_name": "Python 3",
   "language": "python",
   "name": "python3"
  },
  "language_info": {
   "codemirror_mode": {
    "name": "ipython",
    "version": 3
   },
   "file_extension": ".py",
   "mimetype": "text/x-python",
   "name": "python",
   "nbconvert_exporter": "python",
   "pygments_lexer": "ipython3",
   "version": "3.9.6"
  }
 },
 "nbformat": 4,
 "nbformat_minor": 2
}
